{
 "cells": [
  {
   "cell_type": "code",
   "execution_count": 1,
   "id": "caa31aab",
   "metadata": {},
   "outputs": [],
   "source": [
    "import tensorflow as tf"
   ]
  },
  {
   "cell_type": "code",
   "execution_count": 3,
   "id": "02731b20",
   "metadata": {},
   "outputs": [
    {
     "name": "stdout",
     "output_type": "stream",
     "text": [
      "Num GPUs Available:  1\n"
     ]
    }
   ],
   "source": [
    "print(\"Num GPUs Available: \", len(tf.config.experimental.list_physical_devices('GPU')))"
   ]
  },
  {
   "cell_type": "code",
   "execution_count": 4,
   "id": "227208af",
   "metadata": {},
   "outputs": [],
   "source": [
    "x = tf.constant(4.0)"
   ]
  },
  {
   "cell_type": "code",
   "execution_count": 6,
   "id": "087037c7",
   "metadata": {},
   "outputs": [
    {
     "name": "stdout",
     "output_type": "stream",
     "text": [
      "tf.Tensor(4.0, shape=(), dtype=float32)\n"
     ]
    }
   ],
   "source": [
    "print(x)"
   ]
  },
  {
   "cell_type": "code",
   "execution_count": 10,
   "id": "cf7450de",
   "metadata": {},
   "outputs": [
    {
     "data": {
      "text/plain": [
       "<tf.Tensor: id=3, shape=(2, 3), dtype=int32, numpy=\n",
       "array([[1, 2, 3],\n",
       "       [4, 2, 1]])>"
      ]
     },
     "execution_count": 10,
     "metadata": {},
     "output_type": "execute_result"
    }
   ],
   "source": [
    "y = tf.constant([[1,2,3],[4,2,1]])\n",
    "y"
   ]
  },
  {
   "cell_type": "markdown",
   "id": "798a7d82",
   "metadata": {},
   "source": [
    "#### -->Just like numpy initializations"
   ]
  },
  {
   "cell_type": "code",
   "execution_count": 14,
   "id": "baaaff5d",
   "metadata": {},
   "outputs": [],
   "source": [
    "z = tf.random.normal((3,3,3),mean=0,stddev=1)"
   ]
  },
  {
   "cell_type": "code",
   "execution_count": 15,
   "id": "c496cd92",
   "metadata": {},
   "outputs": [
    {
     "name": "stdout",
     "output_type": "stream",
     "text": [
      "tf.Tensor(\n",
      "[[[-0.6824199  -0.41427487  0.16091858]\n",
      "  [-0.72719705  1.0424352   0.7592243 ]\n",
      "  [ 1.9451311   2.2089913  -0.9282057 ]]\n",
      "\n",
      " [[-0.88537306 -0.47641122  0.55520654]\n",
      "  [-0.22675516  0.51024985 -0.88210815]\n",
      "  [-0.5254105   1.1817789  -1.9820209 ]]\n",
      "\n",
      " [[ 0.5696297  -0.6822766  -0.87543494]\n",
      "  [-0.14611481  0.9780775  -0.6245955 ]\n",
      "  [-0.07699865 -0.32815763 -0.7827316 ]]], shape=(3, 3, 3), dtype=float32)\n"
     ]
    }
   ],
   "source": [
    "print(z)"
   ]
  },
  {
   "cell_type": "code",
   "execution_count": 17,
   "id": "49b9da55",
   "metadata": {},
   "outputs": [],
   "source": [
    "z = tf.random.uniform((2,2,2),minval=0,maxval=10)"
   ]
  },
  {
   "cell_type": "code",
   "execution_count": 18,
   "id": "99da39a8",
   "metadata": {},
   "outputs": [
    {
     "name": "stdout",
     "output_type": "stream",
     "text": [
      "tf.Tensor(\n",
      "[[[5.9894156 3.550799 ]\n",
      "  [6.1129665 3.4036827]]\n",
      "\n",
      " [[1.1242628 8.941535 ]\n",
      "  [9.808513  4.136466 ]]], shape=(2, 2, 2), dtype=float32)\n"
     ]
    }
   ],
   "source": [
    "print(z)"
   ]
  },
  {
   "cell_type": "code",
   "execution_count": 20,
   "id": "544dd8d1",
   "metadata": {},
   "outputs": [
    {
     "data": {
      "text/plain": [
       "<tf.Tensor: id=23, shape=(2, 2, 2), dtype=float64, numpy=\n",
       "array([[[5.98941565, 3.55079889],\n",
       "        [6.11296654, 3.40368271]],\n",
       "\n",
       "       [[1.12426281, 8.941535  ],\n",
       "        [9.80851269, 4.13646603]]])>"
      ]
     },
     "execution_count": 20,
     "metadata": {},
     "output_type": "execute_result"
    }
   ],
   "source": [
    "tf.cast(z,dtype=tf.float64)"
   ]
  },
  {
   "cell_type": "code",
   "execution_count": 21,
   "id": "c447861f",
   "metadata": {},
   "outputs": [],
   "source": [
    "p = tf.random.uniform((2,2,2))"
   ]
  },
  {
   "cell_type": "code",
   "execution_count": 22,
   "id": "cf8b0453",
   "metadata": {},
   "outputs": [
    {
     "data": {
      "text/plain": [
       "<tf.Tensor: id=30, shape=(2, 2, 2), dtype=float32, numpy=\n",
       "array([[[0.00948656, 0.247262  ],\n",
       "        [0.10648489, 0.29891837]],\n",
       "\n",
       "       [[0.6817936 , 0.77089703],\n",
       "        [0.7783725 , 0.01404262]]], dtype=float32)>"
      ]
     },
     "execution_count": 22,
     "metadata": {},
     "output_type": "execute_result"
    }
   ],
   "source": [
    "p"
   ]
  },
  {
   "cell_type": "code",
   "execution_count": 23,
   "id": "95a95cf8",
   "metadata": {},
   "outputs": [],
   "source": [
    "new = tf.add(z,p)"
   ]
  },
  {
   "cell_type": "code",
   "execution_count": 24,
   "id": "a83bb241",
   "metadata": {},
   "outputs": [
    {
     "data": {
      "text/plain": [
       "<tf.Tensor: id=31, shape=(2, 2, 2), dtype=float32, numpy=\n",
       "array([[[ 5.9989023,  3.798061 ],\n",
       "        [ 6.2194514,  3.702601 ]],\n",
       "\n",
       "       [[ 1.8060564,  9.712432 ],\n",
       "        [10.586885 ,  4.150509 ]]], dtype=float32)>"
      ]
     },
     "execution_count": 24,
     "metadata": {},
     "output_type": "execute_result"
    }
   ],
   "source": [
    "new"
   ]
  },
  {
   "cell_type": "code",
   "execution_count": 25,
   "id": "fe707dbd",
   "metadata": {},
   "outputs": [],
   "source": [
    "dot= tf.tensordot(z,p,axes=1) #LIKE MATRIX MULTIPLICATION"
   ]
  },
  {
   "cell_type": "code",
   "execution_count": 26,
   "id": "73c8fb4c",
   "metadata": {},
   "outputs": [
    {
     "data": {
      "text/plain": [
       "<tf.Tensor: id=42, shape=(2, 2, 2, 2), dtype=float32, numpy=\n",
       "array([[[[2.4777308 , 4.218255  ],\n",
       "         [3.4016266 , 1.8402089 ]],\n",
       "\n",
       "        [[2.3786001 , 4.135393  ],\n",
       "         [3.3002715 , 1.8750746 ]]],\n",
       "\n",
       "\n",
       "       [[[6.1069465 , 7.1709905 ],\n",
       "         [7.079562  , 0.46162534]],\n",
       "\n",
       "        [[2.913265  , 5.614062  ],\n",
       "         [4.2641697 , 2.9900315 ]]]], dtype=float32)>"
      ]
     },
     "execution_count": 26,
     "metadata": {},
     "output_type": "execute_result"
    }
   ],
   "source": [
    "dot # (2,2),2 * 2,(2,2) = 2,2,2,2"
   ]
  },
  {
   "cell_type": "code",
   "execution_count": 27,
   "id": "de45ff62",
   "metadata": {},
   "outputs": [],
   "source": [
    "at = z@p #element wise mul"
   ]
  },
  {
   "cell_type": "code",
   "execution_count": 28,
   "id": "f003efc6",
   "metadata": {},
   "outputs": [
    {
     "data": {
      "text/plain": [
       "<tf.Tensor: id=43, shape=(2, 2, 2), dtype=float32, numpy=\n",
       "array([[[0.43492535, 2.5423539 ],\n",
       "        [0.42043176, 2.5289276 ]],\n",
       "\n",
       "       [[7.7263603 , 0.9922534 ],\n",
       "        [9.907092  , 7.61944   ]]], dtype=float32)>"
      ]
     },
     "execution_count": 28,
     "metadata": {},
     "output_type": "execute_result"
    }
   ],
   "source": [
    "at"
   ]
  },
  {
   "cell_type": "code",
   "execution_count": null,
   "id": "fd3dc822",
   "metadata": {},
   "outputs": [],
   "source": []
  }
 ],
 "metadata": {
  "kernelspec": {
   "display_name": "Python [conda env:tensor_gpu] *",
   "language": "python",
   "name": "conda-env-tensor_gpu-py"
  },
  "language_info": {
   "codemirror_mode": {
    "name": "ipython",
    "version": 3
   },
   "file_extension": ".py",
   "mimetype": "text/x-python",
   "name": "python",
   "nbconvert_exporter": "python",
   "pygments_lexer": "ipython3",
   "version": "3.7.0"
  }
 },
 "nbformat": 4,
 "nbformat_minor": 5
}
