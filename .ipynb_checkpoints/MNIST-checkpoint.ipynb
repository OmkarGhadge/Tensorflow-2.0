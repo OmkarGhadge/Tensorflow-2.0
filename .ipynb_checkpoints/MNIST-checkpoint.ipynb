{
 "cells": [
  {
   "cell_type": "code",
   "execution_count": 1,
   "id": "57815b33",
   "metadata": {},
   "outputs": [],
   "source": [
    "import tensorflow as tf\n",
    "from tensorflow import keras"
   ]
  },
  {
   "cell_type": "code",
   "execution_count": 2,
   "id": "808ee5ea",
   "metadata": {},
   "outputs": [],
   "source": [
    "from tensorflow.keras import layers"
   ]
  },
  {
   "cell_type": "code",
   "execution_count": 3,
   "id": "b86c239d",
   "metadata": {},
   "outputs": [],
   "source": [
    "from tensorflow.keras.datasets import mnist"
   ]
  },
  {
   "cell_type": "markdown",
   "id": "06e99399",
   "metadata": {},
   "source": [
    "- 60,000 training images\n",
    "- 10,000 test imgs\n",
    "- 28*28 pixels each img\n",
    "- each pixel has value from 0 to 255"
   ]
  },
  {
   "cell_type": "code",
   "execution_count": 4,
   "id": "243e68e4",
   "metadata": {},
   "outputs": [],
   "source": [
    "(x_train,y_train),(x_test,y_test) = mnist.load_data()"
   ]
  },
  {
   "cell_type": "code",
   "execution_count": 5,
   "id": "0c781d65",
   "metadata": {},
   "outputs": [
    {
     "data": {
      "text/plain": [
       "(60000, 28, 28)"
      ]
     },
     "execution_count": 5,
     "metadata": {},
     "output_type": "execute_result"
    }
   ],
   "source": [
    "x_train.shape"
   ]
  },
  {
   "cell_type": "markdown",
   "id": "ea98e4ed",
   "metadata": {},
   "source": [
    "#### Flatten the input:\n"
   ]
  },
  {
   "cell_type": "code",
   "execution_count": 6,
   "id": "22f1de74",
   "metadata": {},
   "outputs": [],
   "source": [
    "x_train = x_train.reshape(-1,28*28).astype(\"float32\")/255.0\n",
    "x_test = x_test.reshape(-1,28*28).astype(\"float32\")/255.0"
   ]
  },
  {
   "cell_type": "code",
   "execution_count": 7,
   "id": "7cafe35e",
   "metadata": {},
   "outputs": [
    {
     "data": {
      "text/plain": [
       "((60000, 784), (10000, 784))"
      ]
     },
     "execution_count": 7,
     "metadata": {},
     "output_type": "execute_result"
    }
   ],
   "source": [
    "x_train.shape, x_test.shape"
   ]
  },
  {
   "cell_type": "markdown",
   "id": "b26a3229",
   "metadata": {},
   "source": [
    "### SEQUENTIAL API"
   ]
  },
  {
   "cell_type": "markdown",
   "id": "e74ff288",
   "metadata": {},
   "source": [
    "- MAPS ONLY 1 INPUT TO 1 OUTPUT"
   ]
  },
  {
   "cell_type": "code",
   "execution_count": 8,
   "id": "089df87b",
   "metadata": {},
   "outputs": [],
   "source": [
    "model = keras.Sequential(\n",
    "    [\n",
    "        #layers.Dense(512,activation = 'relu'), #first hidden layer\n",
    "        layers.Dense(128,activation = 'relu'), #second hidden layer\n",
    "        layers.Dense(10), #output layer NOTE- WE CAN USE SOFTMAX HERE ALSO BUT WE USE IT LATER.\n",
    "    ]\n",
    "\n",
    ")"
   ]
  },
  {
   "cell_type": "code",
   "execution_count": 9,
   "id": "780acda9",
   "metadata": {},
   "outputs": [],
   "source": [
    "model.compile(\n",
    "    loss = keras.losses.SparseCategoricalCrossentropy(from_logits=True),\n",
    "    #from_logits=True signifies we USE THE SOFTMAX FUNC BEFORE GIVING FINAL OUTPUT\n",
    "    optimizer = keras.optimizers.Adam(lr = 0.001),\n",
    "    metrics = [\"accuracy\"],\n",
    ")"
   ]
  },
  {
   "cell_type": "code",
   "execution_count": 10,
   "id": "b2c13b2c",
   "metadata": {},
   "outputs": [],
   "source": [
    "#model.fit(x_train,y_train,batch_size=32,epochs=5,verbose=2)"
   ]
  },
  {
   "cell_type": "code",
   "execution_count": 11,
   "id": "af65b2a4",
   "metadata": {},
   "outputs": [],
   "source": [
    "#model.evaluate(x_test,y_test,batch_size=32,verbose=2)"
   ]
  },
  {
   "cell_type": "code",
   "execution_count": 12,
   "id": "be26210d",
   "metadata": {},
   "outputs": [
    {
     "data": {
      "text/plain": [
       "[PhysicalDevice(name='/physical_device:GPU:0', device_type='GPU')]"
      ]
     },
     "execution_count": 12,
     "metadata": {},
     "output_type": "execute_result"
    }
   ],
   "source": [
    "tf.config.experimental.list_physical_devices('GPU')\n"
   ]
  },
  {
   "cell_type": "code",
   "execution_count": 13,
   "id": "9293b389",
   "metadata": {},
   "outputs": [
    {
     "data": {
      "text/plain": [
       "[PhysicalDevice(name='/physical_device:CPU:0', device_type='CPU'),\n",
       " PhysicalDevice(name='/physical_device:GPU:0', device_type='GPU')]"
      ]
     },
     "execution_count": 13,
     "metadata": {},
     "output_type": "execute_result"
    }
   ],
   "source": [
    "tf.config.experimental.list_physical_devices(device_type=None)"
   ]
  },
  {
   "cell_type": "code",
   "execution_count": 14,
   "id": "801f1a47",
   "metadata": {},
   "outputs": [
    {
     "name": "stdout",
     "output_type": "stream",
     "text": [
      "Default GPU Device:/device:GPU:0\n"
     ]
    }
   ],
   "source": [
    "if tf.test.gpu_device_name(): \n",
    "\n",
    "    print(\"Default GPU Device:{}\".format(tf.test.gpu_device_name()))\n",
    "\n",
    "else:\n",
    "\n",
    "   print(\"Please install GPU version of TF\")"
   ]
  },
  {
   "cell_type": "markdown",
   "id": "e755c847",
   "metadata": {},
   "source": [
    "### FUNCTIONAL API"
   ]
  },
  {
   "cell_type": "code",
   "execution_count": 15,
   "id": "a7f84590",
   "metadata": {},
   "outputs": [],
   "source": [
    "inputs = keras.Input(shape=(784))"
   ]
  },
  {
   "cell_type": "code",
   "execution_count": 16,
   "id": "fd3ced56",
   "metadata": {},
   "outputs": [],
   "source": [
    "x = layers.Dense(512, activation='relu',name = '1st_layer')(inputs)"
   ]
  },
  {
   "cell_type": "code",
   "execution_count": 17,
   "id": "804eb7a2",
   "metadata": {},
   "outputs": [],
   "source": [
    "x = layers.Dense(256, activation='relu',name = '2nd_layer')(x)"
   ]
  },
  {
   "cell_type": "code",
   "execution_count": 18,
   "id": "483a96f7",
   "metadata": {},
   "outputs": [],
   "source": [
    "x = layers.Dense(128, activation='relu',name = '3nd_layer')(x)"
   ]
  },
  {
   "cell_type": "code",
   "execution_count": 19,
   "id": "b071c339",
   "metadata": {},
   "outputs": [],
   "source": [
    "outputs = layers.Dense(10, activation='softmax')(x)"
   ]
  },
  {
   "cell_type": "code",
   "execution_count": 20,
   "id": "50c0b890",
   "metadata": {},
   "outputs": [],
   "source": [
    "model = keras.Model(inputs=inputs,outputs=outputs)"
   ]
  },
  {
   "cell_type": "code",
   "execution_count": 21,
   "id": "208a14e1",
   "metadata": {},
   "outputs": [
    {
     "name": "stdout",
     "output_type": "stream",
     "text": [
      "Model: \"model\"\n",
      "_________________________________________________________________\n",
      "Layer (type)                 Output Shape              Param #   \n",
      "=================================================================\n",
      "input_1 (InputLayer)         [(None, 784)]             0         \n",
      "_________________________________________________________________\n",
      "1st_layer (Dense)            (None, 512)               401920    \n",
      "_________________________________________________________________\n",
      "2nd_layer (Dense)            (None, 256)               131328    \n",
      "_________________________________________________________________\n",
      "3nd_layer (Dense)            (None, 128)               32896     \n",
      "_________________________________________________________________\n",
      "dense_2 (Dense)              (None, 10)                1290      \n",
      "=================================================================\n",
      "Total params: 567,434\n",
      "Trainable params: 567,434\n",
      "Non-trainable params: 0\n",
      "_________________________________________________________________\n",
      "None\n"
     ]
    }
   ],
   "source": [
    "print(model.summary())"
   ]
  },
  {
   "cell_type": "code",
   "execution_count": 22,
   "id": "26753fda",
   "metadata": {},
   "outputs": [],
   "source": [
    "model.compile(\n",
    "    loss = keras.losses.SparseCategoricalCrossentropy(from_logits=False),\n",
    "    optimizer = keras.optimizers.Adam(lr = 0.001),\n",
    "    metrics = [\"accuracy\"],\n",
    ")"
   ]
  },
  {
   "cell_type": "code",
   "execution_count": 23,
   "id": "5a3e4206",
   "metadata": {},
   "outputs": [
    {
     "name": "stdout",
     "output_type": "stream",
     "text": [
      "Train on 60000 samples\n",
      "Epoch 1/5\n",
      "60000/60000 - 6s - loss: 0.1952 - accuracy: 0.9414\n",
      "Epoch 2/5\n",
      "60000/60000 - 5s - loss: 0.0876 - accuracy: 0.9732\n",
      "Epoch 3/5\n",
      "60000/60000 - 5s - loss: 0.0630 - accuracy: 0.9805\n",
      "Epoch 4/5\n",
      "60000/60000 - 5s - loss: 0.0488 - accuracy: 0.9849\n",
      "Epoch 5/5\n",
      "60000/60000 - 5s - loss: 0.0384 - accuracy: 0.9880\n"
     ]
    },
    {
     "data": {
      "text/plain": [
       "<tensorflow.python.keras.callbacks.History at 0x1eb1784a2e8>"
      ]
     },
     "execution_count": 23,
     "metadata": {},
     "output_type": "execute_result"
    }
   ],
   "source": [
    "model.fit(x_train,y_train,batch_size=32,epochs=5,verbose=2)"
   ]
  },
  {
   "cell_type": "code",
   "execution_count": 24,
   "id": "222edb8c",
   "metadata": {},
   "outputs": [
    {
     "name": "stdout",
     "output_type": "stream",
     "text": [
      "10000/1 - 1s - loss: 0.0397 - accuracy: 0.9779\n"
     ]
    },
    {
     "data": {
      "text/plain": [
       "[0.07934024912002714, 0.9779]"
      ]
     },
     "execution_count": 24,
     "metadata": {},
     "output_type": "execute_result"
    }
   ],
   "source": [
    "model.evaluate(x_test,y_test,batch_size=32,verbose=2)"
   ]
  },
  {
   "cell_type": "code",
   "execution_count": null,
   "id": "62293c59",
   "metadata": {},
   "outputs": [],
   "source": []
  }
 ],
 "metadata": {
  "kernelspec": {
   "display_name": "Python [conda env:tensor_gpu] *",
   "language": "python",
   "name": "conda-env-tensor_gpu-py"
  },
  "language_info": {
   "codemirror_mode": {
    "name": "ipython",
    "version": 3
   },
   "file_extension": ".py",
   "mimetype": "text/x-python",
   "name": "python",
   "nbconvert_exporter": "python",
   "pygments_lexer": "ipython3",
   "version": "3.7.0"
  }
 },
 "nbformat": 4,
 "nbformat_minor": 5
}
