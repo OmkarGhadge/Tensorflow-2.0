{
 "cells": [
  {
   "cell_type": "markdown",
   "metadata": {},
   "source": [
    "### VGG -16:"
   ]
  },
  {
   "cell_type": "markdown",
   "metadata": {},
   "source": [
    "- You’ll use the VGG16 architecture, developed by Karen Simonyan and Andrew\n",
    "Zisserman in 2014; it’s a simple and widely used convnet architecture for ImageNet.\n",
    "- Other models include —VGG, ResNet, Inception, Inception-ResNet, Xception, and so on..."
   ]
  },
  {
   "cell_type": "markdown",
   "metadata": {},
   "source": [
    "### Feature extraction:"
   ]
  },
  {
   "cell_type": "markdown",
   "metadata": {},
   "source": [
    "- Feature extraction consists of using the representations learned by a previous network\n",
    "to extract interesting features from new samples. These features are then run through\n",
    "a new classifier, which is trained from scratch.\n",
    "- . In the\n",
    "case of convnets, feature extraction consists of taking the convolutional base of a previously trained network, running the new data through it, and training a new classifier on top of the output."
   ]
  },
  {
   "cell_type": "markdown",
   "metadata": {},
   "source": [
    "The VGG16 model, among others, comes prepackaged with Keras. You can import\n",
    "it from the keras.applications module. Here’s the list of image-classification\n",
    "models (all pretrained on the ImageNet dataset) that are available as part of keras\n",
    ".applications:\n",
    "- Xception\n",
    "- Inception V3\n",
    "- ResNet50\n",
    "- VGG16\n",
    "- VGG19\n",
    "- MobileNet\n",
    "\n",
    "Let’s instantiate the VGG16 model."
   ]
  },
  {
   "cell_type": "code",
   "execution_count": 7,
   "metadata": {},
   "outputs": [],
   "source": [
    "import tensorflow as tf\n",
    "from tensorflow.keras.applications import VGG16"
   ]
  },
  {
   "cell_type": "code",
   "execution_count": 8,
   "metadata": {},
   "outputs": [
    {
     "name": "stdout",
     "output_type": "stream",
     "text": [
      "Downloading data from https://storage.googleapis.com/tensorflow/keras-applications/vgg16/vgg16_weights_tf_dim_ordering_tf_kernels_notop.h5\n",
      "58892288/58889256 [==============================] - 10s 0us/step\n"
     ]
    }
   ],
   "source": [
    "conv_base = VGG16(weights='imagenet',\n",
    "include_top=False,\n",
    "input_shape=(150, 150, 3))"
   ]
  },
  {
   "cell_type": "code",
   "execution_count": 9,
   "metadata": {},
   "outputs": [
    {
     "name": "stdout",
     "output_type": "stream",
     "text": [
      "Model: \"vgg16\"\n",
      "_________________________________________________________________\n",
      "Layer (type)                 Output Shape              Param #   \n",
      "=================================================================\n",
      "input_1 (InputLayer)         [(None, 150, 150, 3)]     0         \n",
      "_________________________________________________________________\n",
      "block1_conv1 (Conv2D)        (None, 150, 150, 64)      1792      \n",
      "_________________________________________________________________\n",
      "block1_conv2 (Conv2D)        (None, 150, 150, 64)      36928     \n",
      "_________________________________________________________________\n",
      "block1_pool (MaxPooling2D)   (None, 75, 75, 64)        0         \n",
      "_________________________________________________________________\n",
      "block2_conv1 (Conv2D)        (None, 75, 75, 128)       73856     \n",
      "_________________________________________________________________\n",
      "block2_conv2 (Conv2D)        (None, 75, 75, 128)       147584    \n",
      "_________________________________________________________________\n",
      "block2_pool (MaxPooling2D)   (None, 37, 37, 128)       0         \n",
      "_________________________________________________________________\n",
      "block3_conv1 (Conv2D)        (None, 37, 37, 256)       295168    \n",
      "_________________________________________________________________\n",
      "block3_conv2 (Conv2D)        (None, 37, 37, 256)       590080    \n",
      "_________________________________________________________________\n",
      "block3_conv3 (Conv2D)        (None, 37, 37, 256)       590080    \n",
      "_________________________________________________________________\n",
      "block3_pool (MaxPooling2D)   (None, 18, 18, 256)       0         \n",
      "_________________________________________________________________\n",
      "block4_conv1 (Conv2D)        (None, 18, 18, 512)       1180160   \n",
      "_________________________________________________________________\n",
      "block4_conv2 (Conv2D)        (None, 18, 18, 512)       2359808   \n",
      "_________________________________________________________________\n",
      "block4_conv3 (Conv2D)        (None, 18, 18, 512)       2359808   \n",
      "_________________________________________________________________\n",
      "block4_pool (MaxPooling2D)   (None, 9, 9, 512)         0         \n",
      "_________________________________________________________________\n",
      "block5_conv1 (Conv2D)        (None, 9, 9, 512)         2359808   \n",
      "_________________________________________________________________\n",
      "block5_conv2 (Conv2D)        (None, 9, 9, 512)         2359808   \n",
      "_________________________________________________________________\n",
      "block5_conv3 (Conv2D)        (None, 9, 9, 512)         2359808   \n",
      "_________________________________________________________________\n",
      "block5_pool (MaxPooling2D)   (None, 4, 4, 512)         0         \n",
      "=================================================================\n",
      "Total params: 14,714,688\n",
      "Trainable params: 14,714,688\n",
      "Non-trainable params: 0\n",
      "_________________________________________________________________\n"
     ]
    }
   ],
   "source": [
    "conv_base.summary()"
   ]
  },
  {
   "cell_type": "markdown",
   "metadata": {},
   "source": [
    "Finally, we have 4* 4 * 512 feature map."
   ]
  },
  {
   "cell_type": "markdown",
   "metadata": {},
   "source": [
    "#### Two ways to go now:"
   ]
  },
  {
   "cell_type": "markdown",
   "metadata": {},
   "source": [
    "- Running the convolutional base over your dataset, recording its output to a\n",
    "Numpy array on disk, and then using this data as input to a standalone, densely\n",
    "connected classifier.k. This solution\n",
    "is fast and cheap to run, because it only requires running the convolutional\n",
    "base once for every input image. But for the same reason, this technique won’t\n",
    "allow you to use data augmentation.\n"
   ]
  },
  {
   "cell_type": "markdown",
   "metadata": {},
   "source": [
    "- Extending the model you have (conv_base) by adding Dense layers on top, and\n",
    "running the whole thing end to end on the input data. This will allow you to use\n",
    "data augmentation, because every input image goes through the convolutional\n",
    "base every time it’s seen by the model. But for the same reason, this technique is\n",
    "far more expensive than the first."
   ]
  },
  {
   "cell_type": "markdown",
   "metadata": {},
   "source": [
    "#### 1. FAST FEATURE EXTRACTION WITHOUT DATA AUGMENTATION:"
   ]
  },
  {
   "cell_type": "code",
   "execution_count": 16,
   "metadata": {},
   "outputs": [],
   "source": [
    "import os\n",
    "import numpy as np\n",
    "from tensorflow.keras.preprocessing.image import ImageDataGenerator"
   ]
  },
  {
   "cell_type": "code",
   "execution_count": 18,
   "metadata": {},
   "outputs": [],
   "source": [
    "train_dir = 'dataset/training_set'\n",
    "test_dir = 'dataset/test_set'"
   ]
  },
  {
   "cell_type": "code",
   "execution_count": 19,
   "metadata": {},
   "outputs": [],
   "source": [
    "datagen = ImageDataGenerator(rescale=1./255)\n",
    "batch_size = 20"
   ]
  },
  {
   "cell_type": "code",
   "execution_count": 27,
   "metadata": {},
   "outputs": [],
   "source": [
    "def extract_features(direc,samples):\n",
    "    features = np.zeros(shape=(samples,4,4,512)) #we need features of train and test set (all examples) after passing thru conv_base\n",
    "    labels = np.zeros(shape= (samples))\n",
    "    generator = datagen.flow_from_directory( #extracts images from train and test sets size 150 and sends as input to conv_base\n",
    "    direc,\n",
    "    target_size = (150,150),\n",
    "    batch_size = batch_size,\n",
    "    class_mode = 'binary')\n",
    "    i = 0\n",
    "    for input_batch,labels_batch in generator:\n",
    "        features_batch = conv_base.predict(input_batch) #CONV_BASE PREDICTIONS\n",
    "        features[i*batch_size:(i+1)*batch_size] = features_batch\n",
    "        labels[i*batch_size:(i+1)*batch_size] = labels_batch\n",
    "        i+=1\n",
    "        if i * batch_size >= samples:\n",
    "            break\n",
    "    return features,labels"
   ]
  },
  {
   "cell_type": "code",
   "execution_count": 28,
   "metadata": {},
   "outputs": [
    {
     "name": "stdout",
     "output_type": "stream",
     "text": [
      "Found 8000 images belonging to 2 classes.\n"
     ]
    }
   ],
   "source": [
    "train_features, train_labels = extract_features(train_dir, 2000)"
   ]
  },
  {
   "cell_type": "code",
   "execution_count": 29,
   "metadata": {},
   "outputs": [
    {
     "name": "stdout",
     "output_type": "stream",
     "text": [
      "Found 2000 images belonging to 2 classes.\n"
     ]
    }
   ],
   "source": [
    "test_features, test_labels = extract_features(test_dir, 1000)"
   ]
  },
  {
   "cell_type": "markdown",
   "metadata": {},
   "source": [
    ". You’ll feed them\n",
    "to a densely connected classifier, so first you must flatten them to (samples, 8192):"
   ]
  },
  {
   "cell_type": "code",
   "execution_count": 30,
   "metadata": {},
   "outputs": [],
   "source": [
    "train_features = np.reshape(train_features, (2000, 4*4* 512))\n",
    "test_features = np.reshape(test_features, (1000, 4*4* 512))"
   ]
  },
  {
   "cell_type": "markdown",
   "metadata": {},
   "source": [
    "#### Defining and training the densely connected classifier:"
   ]
  },
  {
   "cell_type": "code",
   "execution_count": 86,
   "metadata": {},
   "outputs": [],
   "source": [
    "from tensorflow.keras import models\n",
    "from tensorflow.keras import layers\n",
    "from tensorflow.keras import optimizers\n"
   ]
  },
  {
   "cell_type": "code",
   "execution_count": 87,
   "metadata": {},
   "outputs": [],
   "source": [
    "model = models.Sequential()"
   ]
  },
  {
   "cell_type": "code",
   "execution_count": 88,
   "metadata": {},
   "outputs": [],
   "source": [
    "model.add(layers.Dense(256, activation='relu', input_dim=4 * 4 * 512))"
   ]
  },
  {
   "cell_type": "code",
   "execution_count": 89,
   "metadata": {},
   "outputs": [],
   "source": [
    "model.add(layers.Dropout(0.5))\n",
    "model.add(layers.Dense(1, activation='sigmoid'))"
   ]
  },
  {
   "cell_type": "code",
   "execution_count": 90,
   "metadata": {},
   "outputs": [],
   "source": [
    "#optimizer:\n",
    "opt = keras.optimizers.RMSprop(learning_rate=2e-5)"
   ]
  },
  {
   "cell_type": "code",
   "execution_count": 91,
   "metadata": {},
   "outputs": [],
   "source": [
    "model.compile(optimizer = opt,\n",
    "             loss = 'binary_crossentropy',\n",
    "             metrics = ['acc'])"
   ]
  },
  {
   "cell_type": "code",
   "execution_count": 92,
   "metadata": {},
   "outputs": [
    {
     "name": "stdout",
     "output_type": "stream",
     "text": [
      "Epoch 1/30\n",
      "100/100 [==============================] - 4s 35ms/step - loss: 0.5580 - acc: 0.7125 - val_loss: 0.4501 - val_acc: 0.8160\n",
      "Epoch 2/30\n",
      "100/100 [==============================] - 4s 35ms/step - loss: 0.4122 - acc: 0.8180 - val_loss: 0.3700 - val_acc: 0.8590\n",
      "Epoch 3/30\n",
      "100/100 [==============================] - 3s 31ms/step - loss: 0.3494 - acc: 0.8550 - val_loss: 0.3355 - val_acc: 0.8610\n",
      "Epoch 4/30\n",
      "100/100 [==============================] - 3s 30ms/step - loss: 0.3128 - acc: 0.8675 - val_loss: 0.3197 - val_acc: 0.8660\n",
      "Epoch 5/30\n",
      "100/100 [==============================] - 3s 30ms/step - loss: 0.2863 - acc: 0.8805 - val_loss: 0.3100 - val_acc: 0.8690\n",
      "Epoch 6/30\n",
      "100/100 [==============================] - 3s 32ms/step - loss: 0.2639 - acc: 0.8840 - val_loss: 0.2977 - val_acc: 0.8740\n",
      "Epoch 7/30\n",
      "100/100 [==============================] - 4s 36ms/step - loss: 0.2565 - acc: 0.8960 - val_loss: 0.2916 - val_acc: 0.8700\n",
      "Epoch 8/30\n",
      "100/100 [==============================] - 3s 30ms/step - loss: 0.2361 - acc: 0.9055 - val_loss: 0.2882 - val_acc: 0.8720\n",
      "Epoch 9/30\n",
      "100/100 [==============================] - 3s 30ms/step - loss: 0.2309 - acc: 0.9040 - val_loss: 0.2784 - val_acc: 0.8850\n",
      "Epoch 10/30\n",
      "100/100 [==============================] - 3s 30ms/step - loss: 0.2125 - acc: 0.9140 - val_loss: 0.2753 - val_acc: 0.8830\n",
      "Epoch 11/30\n",
      "100/100 [==============================] - 3s 34ms/step - loss: 0.1998 - acc: 0.9235 - val_loss: 0.2716 - val_acc: 0.8840\n",
      "Epoch 12/30\n",
      "100/100 [==============================] - 4s 36ms/step - loss: 0.1916 - acc: 0.9310 - val_loss: 0.2667 - val_acc: 0.8870\n",
      "Epoch 13/30\n",
      "100/100 [==============================] - 3s 34ms/step - loss: 0.1908 - acc: 0.9270 - val_loss: 0.2648 - val_acc: 0.8880\n",
      "Epoch 14/30\n",
      "100/100 [==============================] - 4s 43ms/step - loss: 0.1769 - acc: 0.9375 - val_loss: 0.2698 - val_acc: 0.8750\n",
      "Epoch 15/30\n",
      "100/100 [==============================] - 3s 34ms/step - loss: 0.1698 - acc: 0.9390 - val_loss: 0.2613 - val_acc: 0.8870\n",
      "Epoch 16/30\n",
      "100/100 [==============================] - 3s 33ms/step - loss: 0.1648 - acc: 0.9415 - val_loss: 0.2711 - val_acc: 0.8740\n",
      "Epoch 17/30\n",
      "100/100 [==============================] - 3s 33ms/step - loss: 0.1562 - acc: 0.9485 - val_loss: 0.2581 - val_acc: 0.8850\n",
      "Epoch 18/30\n",
      "100/100 [==============================] - 3s 33ms/step - loss: 0.1552 - acc: 0.9465 - val_loss: 0.2572 - val_acc: 0.8790\n",
      "Epoch 19/30\n",
      "100/100 [==============================] - 3s 33ms/step - loss: 0.1482 - acc: 0.9535 - val_loss: 0.2554 - val_acc: 0.8830\n",
      "Epoch 20/30\n",
      "100/100 [==============================] - 4s 41ms/step - loss: 0.1404 - acc: 0.9530 - val_loss: 0.2602 - val_acc: 0.8880\n",
      "Epoch 21/30\n",
      "100/100 [==============================] - 4s 36ms/step - loss: 0.1331 - acc: 0.9580 - val_loss: 0.2538 - val_acc: 0.8820\n",
      "Epoch 22/30\n",
      "100/100 [==============================] - 3s 34ms/step - loss: 0.1296 - acc: 0.9605 - val_loss: 0.2569 - val_acc: 0.8840\n",
      "Epoch 23/30\n",
      "100/100 [==============================] - 3s 34ms/step - loss: 0.1275 - acc: 0.9630 - val_loss: 0.2598 - val_acc: 0.8830\n",
      "Epoch 24/30\n",
      "100/100 [==============================] - 3s 31ms/step - loss: 0.1218 - acc: 0.9635 - val_loss: 0.2535 - val_acc: 0.8810\n",
      "Epoch 25/30\n",
      "100/100 [==============================] - 3s 30ms/step - loss: 0.1160 - acc: 0.9650 - val_loss: 0.2517 - val_acc: 0.8810\n",
      "Epoch 26/30\n",
      "100/100 [==============================] - 3s 30ms/step - loss: 0.1122 - acc: 0.9685 - val_loss: 0.2513 - val_acc: 0.8820\n",
      "Epoch 27/30\n",
      "100/100 [==============================] - 3s 33ms/step - loss: 0.1033 - acc: 0.9735 - val_loss: 0.2537 - val_acc: 0.8830\n",
      "Epoch 28/30\n",
      "100/100 [==============================] - 4s 38ms/step - loss: 0.1038 - acc: 0.9685 - val_loss: 0.2530 - val_acc: 0.8840\n",
      "Epoch 29/30\n",
      "100/100 [==============================] - 3s 30ms/step - loss: 0.1007 - acc: 0.9725 - val_loss: 0.2535 - val_acc: 0.8870\n",
      "Epoch 30/30\n",
      "100/100 [==============================] - 3s 30ms/step - loss: 0.0992 - acc: 0.9700 - val_loss: 0.2500 - val_acc: 0.8840\n"
     ]
    }
   ],
   "source": [
    "history = model.fit(train_features, train_labels,\n",
    "    epochs=30,\n",
    "    batch_size=20,\n",
    "    validation_data=(test_features, test_labels))"
   ]
  },
  {
   "cell_type": "code",
   "execution_count": 93,
   "metadata": {},
   "outputs": [
    {
     "data": {
      "image/png": "[encoded data removed]",
      "text/plain": [
       "<Figure size 432x288 with 1 Axes>"
      ]
     },
     "metadata": {
      "needs_background": "light"
     },
     "output_type": "display_data"
    },
    {
     "data": {
      "image/png": "[encoded data removed]",
      "text/plain": [
       "<Figure size 432x288 with 1 Axes>"
      ]
     },
     "metadata": {
      "needs_background": "light"
     },
     "output_type": "display_data"
    }
   ],
   "source": [
    "import matplotlib.pyplot as plt\n",
    "acc = history.history['acc']\n",
    "val_acc = history.history['val_acc']\n",
    "loss = history.history['loss']\n",
    "val_loss = history.history['val_loss']\n",
    "epochs = range(1, len(acc) + 1)\n",
    "plt.plot(epochs, acc, 'bo', label='Training acc')\n",
    "plt.plot(epochs, val_acc, 'b', label='Validation acc')\n",
    "plt.title('Training and validation accuracy')\n",
    "plt.legend()\n",
    "plt.figure()\n",
    "plt.plot(epochs, loss, 'bo', label='Training loss')\n",
    "plt.plot(epochs, val_loss, 'b', label='Validation loss')\n",
    "plt.title('Training and validation loss')\n",
    "plt.legend()\n",
    "plt.show()"
   ]
  },
  {
   "cell_type": "markdown",
   "metadata": {},
   "source": [
    "But the plots also indicate\n",
    "that you’re overfitting almost from the start—despite using dropout with a fairly large\n",
    "rate. That’s because this technique doesn’t use data augmentation, which is essential\n",
    "for preventing overfitting with small image datasets. "
   ]
  },
  {
   "cell_type": "code",
   "execution_count": null,
   "metadata": {},
   "outputs": [],
   "source": []
  }
 ],
 "metadata": {
  "kernelspec": {
   "display_name": "Python 3",
   "language": "python",
   "name": "python3"
  },
  "language_info": {
   "codemirror_mode": {
    "name": "ipython",
    "version": 3
   },
   "file_extension": ".py",
   "mimetype": "text/x-python",
   "name": "python",
   "nbconvert_exporter": "python",
   "pygments_lexer": "ipython3",
   "version": "3.8.5"
  }
 },
 "nbformat": 4,
 "nbformat_minor": 4
}
